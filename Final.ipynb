{
 "cells": [
  {
   "attachments": {},
   "cell_type": "markdown",
   "metadata": {},
   "source": [
    "# Final Project: Crypto Currency from 2013 to 2021\n",
    "\n",
    "Member of our team:\n",
    "\n",
    "<table style='float:center'>\n",
    "    <tr>\n",
    "        <th>Fullname</th>\n",
    "        <th>Student ID</th>\n",
    "    </tr>\n",
    "    <tr>\n",
    "        <td>Đoàn Ánh Dương</td>\n",
    "        <td>20127474</td>\n",
    "    </tr>\n",
    "</table>\n",
    "\n",
    "\n"
   ]
  },
  {
   "attachments": {},
   "cell_type": "markdown",
   "metadata": {},
   "source": [
    "---"
   ]
  },
  {
   "attachments": {},
   "cell_type": "markdown",
   "metadata": {},
   "source": [
    "## Import Library"
   ]
  },
  {
   "attachments": {},
   "cell_type": "markdown",
   "metadata": {},
   "source": [
    "Necessary file imported here."
   ]
  },
  {
   "cell_type": "code",
   "execution_count": 1,
   "metadata": {},
   "outputs": [],
   "source": [
    "import numpy as np\n",
    "import pandas as pd\n",
    "import matplotlib.pyplot as plt\n",
    "import seaborn as sns\n",
    "import plotly.express as px\n",
    "\n",
    "import os\n",
    "import glob"
   ]
  },
  {
   "attachments": {},
   "cell_type": "markdown",
   "metadata": {},
   "source": [
    "Environment using within this final project."
   ]
  },
  {
   "cell_type": "code",
   "execution_count": 3,
   "metadata": {},
   "outputs": [
    {
     "data": {
      "text/plain": [
       "'/home/duong/anaconda3/envs/min_ds-env/bin/python'"
      ]
     },
     "execution_count": 3,
     "metadata": {},
     "output_type": "execute_result"
    }
   ],
   "source": [
    "import sys\n",
    "sys.executable"
   ]
  },
  {
   "attachments": {},
   "cell_type": "markdown",
   "metadata": {},
   "source": [
    "Set options here."
   ]
  },
  {
   "cell_type": "code",
   "execution_count": 2,
   "metadata": {},
   "outputs": [],
   "source": [
    "pd.set_option('display.max_colwidth', None)\n",
    "pd.set_option('display.float_format', '{:.2f}'.format)"
   ]
  },
  {
   "attachments": {},
   "cell_type": "markdown",
   "metadata": {},
   "source": [
    "---"
   ]
  },
  {
   "attachments": {},
   "cell_type": "markdown",
   "metadata": {},
   "source": [
    "## I. Idea and Expectation\n",
    "### Idea\n",
    "For recent years, we have been heard at least once about crypto, particuarly Bitcoin and its application. Although digital currency brought many controversial opinions up to now, we cannot realize its success and popularity. \n",
    "\n",
    "So I decided to deep in crypto market and fortunately, I found the historical price data of crypto currency on Kaggle. Although the data does not contain all information about a specific coin, the historical price can bring us to take an overview of digital currency evolution.\n",
    "\n",
    "Throughout this project, I hope that we can have a perspective objectively and a basic knowledge about digital currency.\n",
    "### Expectation\n",
    "In this project, we will find out the crypto currency market and its history, with expectation that we can find a method to buy a coin and take profit. "
   ]
  },
  {
   "attachments": {},
   "cell_type": "markdown",
   "metadata": {},
   "source": [
    "## II. Datasets and Collection"
   ]
  },
  {
   "attachments": {},
   "cell_type": "markdown",
   "metadata": {},
   "source": [
    "### Source and Public Data\n",
    "I found the datasets used in this project was public on [Kaggle](https://www.kaggle.com/datasets/sudalairajkumar/cryptocurrencypricehistory): Crypto Currrency price history.\n",
    "\n",
    "### License\n",
    "The data is taken from [coinmarketcap](https://coinmarketcap.com/) and it is [free](https://coinmarketcap.com/faq/) to use the data.\n",
    "\n",
    "More about the license I found on kaggle: \n",
    "- CC0: Public Domain ([No copyright](https://creativecommons.org/publicdomain/zero/1.0/))\n",
    "\n",
    "### About Data\n",
    "The dataset has one csv file for each currency. **Price history is available on a daily basis from <font color = 'green'>*April 28, 2013*</font>**. This dataset has the historical price information of some of the top crypto currencies by market capitalization, including Bitcoin, Etherium, Binance Coin,...\n",
    "\n",
    "### Description \n",
    "All information of columns contain in the file named `description.txt`.\n",
    "\n",
    "### Author\n",
    "Datasets were collected by Sudalai Rajkumar(registered account name [SRK](https://www.kaggle.com/sudalairajkumar)) on Kaggle.\n",
    "\n",
    "### How did the author collect data?\n",
    "As the author's answer, there is not mentioned clearly how the way he collected data, maybe collected by scraping historical data web. For instance: [bitcoin](https://coinmarketcap.com/currencies/bitcoin/historical-data/).\n",
    "\n",
    "### Is dataset subjective or objective?\n",
    "Besides the historical price of digital currency, there are many factors in a coin we need to take consideration on. For example: Holders Statistic over time, legality, team and organization investors, who created the coin... \n",
    "\n",
    "So that the dataset is subjective."
   ]
  },
  {
   "attachments": {},
   "cell_type": "markdown",
   "metadata": {},
   "source": [
    "---"
   ]
  },
  {
   "attachments": {},
   "cell_type": "markdown",
   "metadata": {},
   "source": [
    "## III. Preprocessing Data"
   ]
  },
  {
   "attachments": {},
   "cell_type": "markdown",
   "metadata": {},
   "source": [
    "### 1. Change files."
   ]
  },
  {
   "attachments": {},
   "cell_type": "markdown",
   "metadata": {},
   "source": [
    "First, we cannot access each files to analyze, it must be combined into one.\n",
    "\n",
    "#### How many files does we have?"
   ]
  },
  {
   "cell_type": "code",
   "execution_count": 4,
   "metadata": {},
   "outputs": [
    {
     "name": "stdout",
     "output_type": "stream",
     "text": [
      "Containing number of files: 23.\n",
      "['coin_XRP.csv', 'coin_Ethereum.csv', 'coin_Aave.csv', 'coin_USDCoin.csv', 'coin_Solana.csv', 'coin_EOS.csv', 'coin_WrappedBitcoin.csv', 'coin_Cardano.csv', 'coin_NEM.csv', 'coin_Tron.csv', 'coin_CryptocomCoin.csv', 'coin_BinanceCoin.csv', 'coin_Iota.csv', 'coin_ChainLink.csv', 'coin_Monero.csv', 'coin_Dogecoin.csv', 'coin_Tether.csv', 'coin_Bitcoin.csv', 'coin_Cosmos.csv', 'coin_Litecoin.csv', 'coin_Stellar.csv', 'coin_Polkadot.csv', 'coin_Uniswap.csv']\n"
     ]
    }
   ],
   "source": [
    "path = 'archive/'\n",
    "os.chdir(path)\n",
    "ext = 'csv'\n",
    "all_files = [f for f in glob.glob(f'*.{ext}')]\n",
    "\n",
    "print(f'Containing number of files: {len(all_files)}.')\n",
    "print(all_files)\n",
    "\n",
    "os.chdir('../')"
   ]
  },
  {
   "attachments": {},
   "cell_type": "markdown",
   "metadata": {},
   "source": [
    "#### Are there duplicated in each files? \n",
    "\n",
    "Lets check duplicated rows."
   ]
  },
  {
   "cell_type": "code",
   "execution_count": 5,
   "metadata": {},
   "outputs": [
    {
     "name": "stdout",
     "output_type": "stream",
     "text": [
      "duplicated in coin_XRP.csv: 0\n",
      "duplicated in coin_Ethereum.csv: 0\n",
      "duplicated in coin_Aave.csv: 0\n",
      "duplicated in coin_USDCoin.csv: 0\n",
      "duplicated in coin_Solana.csv: 0\n",
      "duplicated in coin_EOS.csv: 0\n",
      "duplicated in coin_WrappedBitcoin.csv: 0\n",
      "duplicated in coin_Cardano.csv: 0\n",
      "duplicated in coin_NEM.csv: 0\n",
      "duplicated in coin_Tron.csv: 0\n",
      "duplicated in coin_CryptocomCoin.csv: 0\n",
      "duplicated in coin_BinanceCoin.csv: 0\n",
      "duplicated in coin_Iota.csv: 0\n",
      "duplicated in coin_ChainLink.csv: 0\n",
      "duplicated in coin_Monero.csv: 0\n",
      "duplicated in coin_Dogecoin.csv: 0\n",
      "duplicated in coin_Tether.csv: 0\n",
      "duplicated in coin_Bitcoin.csv: 0\n",
      "duplicated in coin_Cosmos.csv: 0\n",
      "duplicated in coin_Litecoin.csv: 0\n",
      "duplicated in coin_Stellar.csv: 0\n",
      "duplicated in coin_Polkadot.csv: 0\n",
      "duplicated in coin_Uniswap.csv: 0\n"
     ]
    }
   ],
   "source": [
    "for f in all_files:\n",
    "    temp = pd.read_csv(path+f)\n",
    "    print(f'duplicated in {f}:', temp.index.duplicated().sum())"
   ]
  },
  {
   "attachments": {},
   "cell_type": "markdown",
   "metadata": {},
   "source": [
    "So there is no duplicated rows. We carry out combining files."
   ]
  },
  {
   "cell_type": "code",
   "execution_count": 6,
   "metadata": {},
   "outputs": [
    {
     "name": "stdout",
     "output_type": "stream",
     "text": [
      "duplicated in combine files:  34091\n"
     ]
    }
   ],
   "source": [
    "combined_csv = pd.concat([pd.read_csv(path + fname) for fname in all_files])\n",
    "print('duplicated in combine files: ', combined_csv.index.duplicated().sum())"
   ]
  },
  {
   "attachments": {},
   "cell_type": "markdown",
   "metadata": {},
   "source": [
    "Why the combined files take duplicated? Because column 'SNo' is the index starting with $1$ for each files. So we must reset the index in combined files. "
   ]
  },
  {
   "cell_type": "code",
   "execution_count": 7,
   "metadata": {},
   "outputs": [],
   "source": [
    "combined_csv.drop('SNo',1,inplace = True)\n",
    "combined_csv.to_csv('crypto_finance.csv', index=False)\n",
    "\n",
    "combined_csv = pd.read_csv('crypto_finance.csv')\n",
    "combined_csv.index.rename('SNo', inplace = True)\n",
    "combined_csv.to_csv('crypto_finance.csv')"
   ]
  },
  {
   "attachments": {},
   "cell_type": "markdown",
   "metadata": {},
   "source": [
    "### 2. Pre-processing"
   ]
  },
  {
   "attachments": {},
   "cell_type": "markdown",
   "metadata": {},
   "source": [
    "Read new file. Let's see some values."
   ]
  },
  {
   "cell_type": "code",
   "execution_count": 3,
   "metadata": {},
   "outputs": [
    {
     "data": {
      "text/html": [
       "<div>\n",
       "<style scoped>\n",
       "    .dataframe tbody tr th:only-of-type {\n",
       "        vertical-align: middle;\n",
       "    }\n",
       "\n",
       "    .dataframe tbody tr th {\n",
       "        vertical-align: top;\n",
       "    }\n",
       "\n",
       "    .dataframe thead th {\n",
       "        text-align: right;\n",
       "    }\n",
       "</style>\n",
       "<table border=\"1\" class=\"dataframe\">\n",
       "  <thead>\n",
       "    <tr style=\"text-align: right;\">\n",
       "      <th></th>\n",
       "      <th>Name</th>\n",
       "      <th>Symbol</th>\n",
       "      <th>Date</th>\n",
       "      <th>High</th>\n",
       "      <th>Low</th>\n",
       "      <th>Open</th>\n",
       "      <th>Close</th>\n",
       "      <th>Volume</th>\n",
       "      <th>Marketcap</th>\n",
       "    </tr>\n",
       "    <tr>\n",
       "      <th>SNo</th>\n",
       "      <th></th>\n",
       "      <th></th>\n",
       "      <th></th>\n",
       "      <th></th>\n",
       "      <th></th>\n",
       "      <th></th>\n",
       "      <th></th>\n",
       "      <th></th>\n",
       "      <th></th>\n",
       "    </tr>\n",
       "  </thead>\n",
       "  <tbody>\n",
       "    <tr>\n",
       "      <th>4196</th>\n",
       "      <td>Ethereum</td>\n",
       "      <td>ETH</td>\n",
       "      <td>2019-03-03 23:59:59</td>\n",
       "      <td>135.85</td>\n",
       "      <td>131.33</td>\n",
       "      <td>134.79</td>\n",
       "      <td>132.25</td>\n",
       "      <td>3454374052.60</td>\n",
       "      <td>13900679027.02</td>\n",
       "    </tr>\n",
       "    <tr>\n",
       "      <th>24307</th>\n",
       "      <td>Dogecoin</td>\n",
       "      <td>DOGE</td>\n",
       "      <td>2020-03-03 23:59:59</td>\n",
       "      <td>0.00</td>\n",
       "      <td>0.00</td>\n",
       "      <td>0.00</td>\n",
       "      <td>0.00</td>\n",
       "      <td>174988478.67</td>\n",
       "      <td>308838196.56</td>\n",
       "    </tr>\n",
       "    <tr>\n",
       "      <th>34098</th>\n",
       "      <td>Stellar</td>\n",
       "      <td>XLM</td>\n",
       "      <td>2015-01-08 23:59:59</td>\n",
       "      <td>0.01</td>\n",
       "      <td>0.01</td>\n",
       "      <td>0.01</td>\n",
       "      <td>0.01</td>\n",
       "      <td>222723.00</td>\n",
       "      <td>19828782.80</td>\n",
       "    </tr>\n",
       "    <tr>\n",
       "      <th>25380</th>\n",
       "      <td>Tether</td>\n",
       "      <td>USDT</td>\n",
       "      <td>2016-10-05 23:59:59</td>\n",
       "      <td>1.00</td>\n",
       "      <td>1.00</td>\n",
       "      <td>1.00</td>\n",
       "      <td>1.00</td>\n",
       "      <td>753062.00</td>\n",
       "      <td>6951590.95</td>\n",
       "    </tr>\n",
       "    <tr>\n",
       "      <th>20954</th>\n",
       "      <td>Monero</td>\n",
       "      <td>XMR</td>\n",
       "      <td>2018-07-19 23:59:59</td>\n",
       "      <td>143.68</td>\n",
       "      <td>138.55</td>\n",
       "      <td>139.60</td>\n",
       "      <td>139.53</td>\n",
       "      <td>30172600.00</td>\n",
       "      <td>2266122952.65</td>\n",
       "    </tr>\n",
       "    <tr>\n",
       "      <th>35357</th>\n",
       "      <td>Stellar</td>\n",
       "      <td>XLM</td>\n",
       "      <td>2018-06-20 23:59:59</td>\n",
       "      <td>0.24</td>\n",
       "      <td>0.23</td>\n",
       "      <td>0.24</td>\n",
       "      <td>0.23</td>\n",
       "      <td>43000600.00</td>\n",
       "      <td>4320819301.91</td>\n",
       "    </tr>\n",
       "    <tr>\n",
       "      <th>20693</th>\n",
       "      <td>Monero</td>\n",
       "      <td>XMR</td>\n",
       "      <td>2017-10-31 23:59:59</td>\n",
       "      <td>89.33</td>\n",
       "      <td>87.60</td>\n",
       "      <td>88.75</td>\n",
       "      <td>87.64</td>\n",
       "      <td>28704900.00</td>\n",
       "      <td>1340360432.37</td>\n",
       "    </tr>\n",
       "    <tr>\n",
       "      <th>12869</th>\n",
       "      <td>TRON</td>\n",
       "      <td>TRX</td>\n",
       "      <td>2017-11-24 23:59:59</td>\n",
       "      <td>0.00</td>\n",
       "      <td>0.00</td>\n",
       "      <td>0.00</td>\n",
       "      <td>0.00</td>\n",
       "      <td>4204470.00</td>\n",
       "      <td>132859497.29</td>\n",
       "    </tr>\n",
       "    <tr>\n",
       "      <th>26595</th>\n",
       "      <td>Tether</td>\n",
       "      <td>USDT</td>\n",
       "      <td>2020-02-02 23:59:59</td>\n",
       "      <td>1.01</td>\n",
       "      <td>1.00</td>\n",
       "      <td>1.00</td>\n",
       "      <td>1.00</td>\n",
       "      <td>40560625161.10</td>\n",
       "      <td>4644893208.29</td>\n",
       "    </tr>\n",
       "    <tr>\n",
       "      <th>1043</th>\n",
       "      <td>XRP</td>\n",
       "      <td>XRP</td>\n",
       "      <td>2016-06-13 23:59:59</td>\n",
       "      <td>0.01</td>\n",
       "      <td>0.01</td>\n",
       "      <td>0.01</td>\n",
       "      <td>0.01</td>\n",
       "      <td>1537720.00</td>\n",
       "      <td>203072051.01</td>\n",
       "    </tr>\n",
       "  </tbody>\n",
       "</table>\n",
       "</div>"
      ],
      "text/plain": [
       "           Name Symbol                 Date   High    Low   Open  Close  \\\n",
       "SNo                                                                       \n",
       "4196   Ethereum    ETH  2019-03-03 23:59:59 135.85 131.33 134.79 132.25   \n",
       "24307  Dogecoin   DOGE  2020-03-03 23:59:59   0.00   0.00   0.00   0.00   \n",
       "34098   Stellar    XLM  2015-01-08 23:59:59   0.01   0.01   0.01   0.01   \n",
       "25380    Tether   USDT  2016-10-05 23:59:59   1.00   1.00   1.00   1.00   \n",
       "20954    Monero    XMR  2018-07-19 23:59:59 143.68 138.55 139.60 139.53   \n",
       "35357   Stellar    XLM  2018-06-20 23:59:59   0.24   0.23   0.24   0.23   \n",
       "20693    Monero    XMR  2017-10-31 23:59:59  89.33  87.60  88.75  87.64   \n",
       "12869      TRON    TRX  2017-11-24 23:59:59   0.00   0.00   0.00   0.00   \n",
       "26595    Tether   USDT  2020-02-02 23:59:59   1.01   1.00   1.00   1.00   \n",
       "1043        XRP    XRP  2016-06-13 23:59:59   0.01   0.01   0.01   0.01   \n",
       "\n",
       "              Volume      Marketcap  \n",
       "SNo                                  \n",
       "4196   3454374052.60 13900679027.02  \n",
       "24307   174988478.67   308838196.56  \n",
       "34098      222723.00    19828782.80  \n",
       "25380      753062.00     6951590.95  \n",
       "20954    30172600.00  2266122952.65  \n",
       "35357    43000600.00  4320819301.91  \n",
       "20693    28704900.00  1340360432.37  \n",
       "12869     4204470.00   132859497.29  \n",
       "26595 40560625161.10  4644893208.29  \n",
       "1043      1537720.00   203072051.01  "
      ]
     },
     "execution_count": 3,
     "metadata": {},
     "output_type": "execute_result"
    }
   ],
   "source": [
    "cryp_df = pd.read_csv('crypto_finance.csv', index_col='SNo')\n",
    "\n",
    "cryp_df.sample(10)"
   ]
  },
  {
   "attachments": {},
   "cell_type": "markdown",
   "metadata": {},
   "source": [
    "More information about dataset."
   ]
  },
  {
   "cell_type": "code",
   "execution_count": 13,
   "metadata": {},
   "outputs": [
    {
     "name": "stdout",
     "output_type": "stream",
     "text": [
      "<class 'pandas.core.frame.DataFrame'>\n",
      "Int64Index: 37082 entries, 0 to 37081\n",
      "Data columns (total 9 columns):\n",
      " #   Column     Non-Null Count  Dtype         \n",
      "---  ------     --------------  -----         \n",
      " 0   Name       37082 non-null  object        \n",
      " 1   Symbol     37082 non-null  object        \n",
      " 2   Date       37082 non-null  datetime64[ns]\n",
      " 3   High       37082 non-null  float64       \n",
      " 4   Low        37082 non-null  float64       \n",
      " 5   Open       37082 non-null  float64       \n",
      " 6   Close      37082 non-null  float64       \n",
      " 7   Volume     37082 non-null  float64       \n",
      " 8   Marketcap  37082 non-null  float64       \n",
      "dtypes: datetime64[ns](1), float64(6), object(2)\n",
      "memory usage: 3.8+ MB\n"
     ]
    }
   ],
   "source": [
    "cryp_df.info()"
   ]
  },
  {
   "attachments": {},
   "cell_type": "markdown",
   "metadata": {},
   "source": [
    "#### How many rows and columns in the file?"
   ]
  },
  {
   "cell_type": "code",
   "execution_count": 4,
   "metadata": {},
   "outputs": [
    {
     "data": {
      "text/plain": [
       "(37082, 9)"
      ]
     },
     "execution_count": 4,
     "metadata": {},
     "output_type": "execute_result"
    }
   ],
   "source": [
    "cryp_df.shape"
   ]
  },
  {
   "attachments": {},
   "cell_type": "markdown",
   "metadata": {},
   "source": [
    "There are 37082 rows and 9 columns."
   ]
  },
  {
   "attachments": {},
   "cell_type": "markdown",
   "metadata": {},
   "source": [
    "#### What is the meaning of each row (sample)?"
   ]
  },
  {
   "attachments": {},
   "cell_type": "markdown",
   "metadata": {},
   "source": [
    "The dataset shows that each samples contain the information of a specific coin at each time."
   ]
  },
  {
   "attachments": {},
   "cell_type": "markdown",
   "metadata": {},
   "source": [
    "#### Does the data have duplicated samples?"
   ]
  },
  {
   "cell_type": "code",
   "execution_count": 5,
   "metadata": {},
   "outputs": [
    {
     "data": {
      "text/plain": [
       "0"
      ]
     },
     "execution_count": 5,
     "metadata": {},
     "output_type": "execute_result"
    }
   ],
   "source": [
    "cryp_df.index.duplicated().sum()"
   ]
  },
  {
   "attachments": {},
   "cell_type": "markdown",
   "metadata": {},
   "source": [
    "There is no duplicated samples."
   ]
  },
  {
   "attachments": {},
   "cell_type": "markdown",
   "metadata": {},
   "source": [
    "#### What does each column mean? "
   ]
  },
  {
   "cell_type": "code",
   "execution_count": 6,
   "metadata": {},
   "outputs": [
    {
     "name": "stdout",
     "output_type": "stream",
     "text": [
      "1) SNo:         Serial Number.\n",
      "2) Name:        Name of coin.\n",
      "3) Symbol:      Symbol of coin.\n",
      "4) Date:        Date of observation.\n",
      "5) Open:        Opening price on the given day.\n",
      "6) High:        Highest price on the given day.\n",
      "7) Low:         Lowest price on the given day.\n",
      "8) Close:       Closing price on the given day.\n",
      "9) Volume:      Volume of transactions on the given day (in USD).\n",
      "10) Market Cap: Market capitalization in USD.\n"
     ]
    }
   ],
   "source": [
    "f = open('description.txt', 'r')\n",
    "print(f.read())\n",
    "f.close()"
   ]
  },
  {
   "attachments": {},
   "cell_type": "markdown",
   "metadata": {},
   "source": [
    "#### Check the data types? "
   ]
  },
  {
   "cell_type": "code",
   "execution_count": 8,
   "metadata": {},
   "outputs": [
    {
     "data": {
      "text/plain": [
       "Name          object\n",
       "Symbol        object\n",
       "Date          object\n",
       "High         float64\n",
       "Low          float64\n",
       "Open         float64\n",
       "Close        float64\n",
       "Volume       float64\n",
       "Marketcap    float64\n",
       "dtype: object"
      ]
     },
     "execution_count": 8,
     "metadata": {},
     "output_type": "execute_result"
    }
   ],
   "source": [
    "cryp_df.dtypes"
   ]
  },
  {
   "attachments": {},
   "cell_type": "markdown",
   "metadata": {},
   "source": [
    "Overall, all the column types is correct except `Date`. We need to change `Date` column to appropriate type (`datetime`)."
   ]
  },
  {
   "cell_type": "code",
   "execution_count": 11,
   "metadata": {},
   "outputs": [],
   "source": [
    "cryp_df['Date'] = pd.to_datetime(cryp_df['Date'], format=\"%Y-%m-%d %X\")"
   ]
  },
  {
   "attachments": {},
   "cell_type": "markdown",
   "metadata": {},
   "source": [
    "#### With the numeric columns, how are values distributed? Are there any abnormal values?"
   ]
  },
  {
   "cell_type": "code",
   "execution_count": 31,
   "metadata": {},
   "outputs": [
    {
     "data": {
      "text/html": [
       "<div>\n",
       "<style scoped>\n",
       "    .dataframe tbody tr th:only-of-type {\n",
       "        vertical-align: middle;\n",
       "    }\n",
       "\n",
       "    .dataframe tbody tr th {\n",
       "        vertical-align: top;\n",
       "    }\n",
       "\n",
       "    .dataframe thead th {\n",
       "        text-align: right;\n",
       "    }\n",
       "</style>\n",
       "<table border=\"1\" class=\"dataframe\">\n",
       "  <thead>\n",
       "    <tr style=\"text-align: right;\">\n",
       "      <th></th>\n",
       "      <th>Date</th>\n",
       "      <th>High</th>\n",
       "      <th>Low</th>\n",
       "      <th>Open</th>\n",
       "      <th>Close</th>\n",
       "      <th>Volume</th>\n",
       "      <th>Marketcap</th>\n",
       "    </tr>\n",
       "  </thead>\n",
       "  <tbody>\n",
       "    <tr>\n",
       "      <th>count</th>\n",
       "      <td>37082</td>\n",
       "      <td>37082.00</td>\n",
       "      <td>37082.00</td>\n",
       "      <td>37082.00</td>\n",
       "      <td>37082.00</td>\n",
       "      <td>37082.00</td>\n",
       "      <td>37082.00</td>\n",
       "    </tr>\n",
       "    <tr>\n",
       "      <th>mean</th>\n",
       "      <td>2018-08-16 07:12:30.221616896</td>\n",
       "      <td>1016.06</td>\n",
       "      <td>952.99</td>\n",
       "      <td>985.32</td>\n",
       "      <td>987.12</td>\n",
       "      <td>3022541604.27</td>\n",
       "      <td>15429426181.11</td>\n",
       "    </tr>\n",
       "    <tr>\n",
       "      <th>min</th>\n",
       "      <td>2013-04-29 23:59:59</td>\n",
       "      <td>0.00</td>\n",
       "      <td>0.00</td>\n",
       "      <td>0.00</td>\n",
       "      <td>0.00</td>\n",
       "      <td>0.00</td>\n",
       "      <td>0.00</td>\n",
       "    </tr>\n",
       "    <tr>\n",
       "      <th>25%</th>\n",
       "      <td>2017-03-05 23:59:59</td>\n",
       "      <td>0.08</td>\n",
       "      <td>0.07</td>\n",
       "      <td>0.07</td>\n",
       "      <td>0.07</td>\n",
       "      <td>4937190.00</td>\n",
       "      <td>239595503.59</td>\n",
       "    </tr>\n",
       "    <tr>\n",
       "      <th>50%</th>\n",
       "      <td>2019-01-09 23:59:59</td>\n",
       "      <td>1.01</td>\n",
       "      <td>1.00</td>\n",
       "      <td>1.00</td>\n",
       "      <td>1.00</td>\n",
       "      <td>85128048.00</td>\n",
       "      <td>1405334561.55</td>\n",
       "    </tr>\n",
       "    <tr>\n",
       "      <th>75%</th>\n",
       "      <td>2020-05-13 23:59:59</td>\n",
       "      <td>31.92</td>\n",
       "      <td>29.00</td>\n",
       "      <td>30.46</td>\n",
       "      <td>30.51</td>\n",
       "      <td>938848893.11</td>\n",
       "      <td>5159304767.10</td>\n",
       "    </tr>\n",
       "    <tr>\n",
       "      <th>max</th>\n",
       "      <td>2021-07-06 23:59:59</td>\n",
       "      <td>64863.10</td>\n",
       "      <td>62208.96</td>\n",
       "      <td>63523.75</td>\n",
       "      <td>63503.46</td>\n",
       "      <td>350967941479.06</td>\n",
       "      <td>1186364044140.27</td>\n",
       "    </tr>\n",
       "    <tr>\n",
       "      <th>std</th>\n",
       "      <td>NaN</td>\n",
       "      <td>5249.50</td>\n",
       "      <td>4907.93</td>\n",
       "      <td>5088.10</td>\n",
       "      <td>5093.70</td>\n",
       "      <td>11909631165.50</td>\n",
       "      <td>70591279351.79</td>\n",
       "    </tr>\n",
       "    <tr>\n",
       "      <th>missing_ratio</th>\n",
       "      <td>0.00</td>\n",
       "      <td>0.00</td>\n",
       "      <td>0.00</td>\n",
       "      <td>0.00</td>\n",
       "      <td>0.00</td>\n",
       "      <td>0.00</td>\n",
       "      <td>0.00</td>\n",
       "    </tr>\n",
       "  </tbody>\n",
       "</table>\n",
       "</div>"
      ],
      "text/plain": [
       "                                        Date     High      Low     Open  \\\n",
       "count                                  37082 37082.00 37082.00 37082.00   \n",
       "mean           2018-08-16 07:12:30.221616896  1016.06   952.99   985.32   \n",
       "min                      2013-04-29 23:59:59     0.00     0.00     0.00   \n",
       "25%                      2017-03-05 23:59:59     0.08     0.07     0.07   \n",
       "50%                      2019-01-09 23:59:59     1.01     1.00     1.00   \n",
       "75%                      2020-05-13 23:59:59    31.92    29.00    30.46   \n",
       "max                      2021-07-06 23:59:59 64863.10 62208.96 63523.75   \n",
       "std                                      NaN  5249.50  4907.93  5088.10   \n",
       "missing_ratio                           0.00     0.00     0.00     0.00   \n",
       "\n",
       "                 Close          Volume        Marketcap  \n",
       "count         37082.00        37082.00         37082.00  \n",
       "mean            987.12   3022541604.27   15429426181.11  \n",
       "min               0.00            0.00             0.00  \n",
       "25%               0.07      4937190.00     239595503.59  \n",
       "50%               1.00     85128048.00    1405334561.55  \n",
       "75%              30.51    938848893.11    5159304767.10  \n",
       "max           63503.46 350967941479.06 1186364044140.27  \n",
       "std            5093.70  11909631165.50   70591279351.79  \n",
       "missing_ratio     0.00            0.00             0.00  "
      ]
     },
     "execution_count": 31,
     "metadata": {},
     "output_type": "execute_result"
    }
   ],
   "source": [
    "nume_cols_df = cryp_df.describe(include=['number', 'datetime'], datetime_is_numeric=True)\n",
    "nume_cols_df.loc['missing_ratio'] = cryp_df.agg(lambda x: x.isna().mean()*100)\n",
    "\n",
    "nume_cols_df"
   ]
  },
  {
   "attachments": {},
   "cell_type": "markdown",
   "metadata": {},
   "source": [
    "Fortunately, there is no NaN values in DataFrame. But it exists abnormal values in `min` row.\n",
    "\n",
    "So, lets take a look at these columns."
   ]
  },
  {
   "cell_type": "code",
   "execution_count": null,
   "metadata": {},
   "outputs": [],
   "source": []
  }
 ],
 "metadata": {
  "kernelspec": {
   "display_name": "min_ds-env",
   "language": "python",
   "name": "python3"
  },
  "language_info": {
   "codemirror_mode": {
    "name": "ipython",
    "version": 3
   },
   "file_extension": ".py",
   "mimetype": "text/x-python",
   "name": "python",
   "nbconvert_exporter": "python",
   "pygments_lexer": "ipython3",
   "version": "3.8.8"
  },
  "orig_nbformat": 4,
  "vscode": {
   "interpreter": {
    "hash": "ff3402e4e066c4e5fd432d9f3680b521be4c7a152a0556b6e79253ae35faf20f"
   }
  }
 },
 "nbformat": 4,
 "nbformat_minor": 2
}
