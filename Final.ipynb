{
 "cells": [
  {
   "attachments": {},
   "cell_type": "markdown",
   "metadata": {},
   "source": [
    "# Final Project: Crypto Currency from 2013 to 2021\n",
    "\n",
    "Member of our team:\n",
    "\n",
    "<table style='float:center'>\n",
    "    <tr>\n",
    "        <th>Fullname</th>\n",
    "        <th>Student ID</th>\n",
    "    </tr>\n",
    "    <tr>\n",
    "        <td>Đoàn Ánh Dương</td>\n",
    "        <td>20127474</td>\n",
    "    </tr>\n",
    "</table>\n",
    "\n",
    "\n"
   ]
  },
  {
   "attachments": {},
   "cell_type": "markdown",
   "metadata": {},
   "source": [
    "---"
   ]
  },
  {
   "attachments": {},
   "cell_type": "markdown",
   "metadata": {},
   "source": [
    "## Import Library"
   ]
  },
  {
   "attachments": {},
   "cell_type": "markdown",
   "metadata": {},
   "source": [
    "Necessary file imported here."
   ]
  },
  {
   "cell_type": "code",
   "execution_count": 1,
   "metadata": {},
   "outputs": [],
   "source": [
    "import numpy as np\n",
    "import pandas as pd\n",
    "import matplotlib.pyplot as plt\n",
    "import seaborn as sns\n",
    "import plotly.express as px\n",
    "\n",
    "import os\n",
    "import glob"
   ]
  },
  {
   "attachments": {},
   "cell_type": "markdown",
   "metadata": {},
   "source": [
    "Environment using within this final project."
   ]
  },
  {
   "cell_type": "code",
   "execution_count": 2,
   "metadata": {},
   "outputs": [
    {
     "data": {
      "text/plain": [
       "'/home/duong/anaconda3/envs/min_ds-env/bin/python'"
      ]
     },
     "execution_count": 2,
     "metadata": {},
     "output_type": "execute_result"
    }
   ],
   "source": [
    "import sys\n",
    "sys.executable"
   ]
  },
  {
   "attachments": {},
   "cell_type": "markdown",
   "metadata": {},
   "source": [
    "Set options here."
   ]
  },
  {
   "cell_type": "code",
   "execution_count": 3,
   "metadata": {},
   "outputs": [],
   "source": [
    "pd.set_option('display.max_colwidth', None)\n",
    "# pd.set_option('display.float_format', '{:.2f}'.format)"
   ]
  },
  {
   "attachments": {},
   "cell_type": "markdown",
   "metadata": {},
   "source": [
    "---"
   ]
  },
  {
   "attachments": {},
   "cell_type": "markdown",
   "metadata": {},
   "source": [
    "## I. Idea and Expectation\n",
    "### Idea\n",
    "For recent years, we have been heard at least once about crypto, particuarly Bitcoin and its application. Although digital currency brought many controversial opinions up to now, we cannot realize its success and popularity. \n",
    "\n",
    "So I decided to deep in crypto market and fortunately, I found the historical price data of crypto currency on Kaggle. Although the data does not contain all information about a specific coin, the historical price can bring us to take an overview of digital currency evolution.\n",
    "\n",
    "Throughout this project, I hope that we can have a perspective objectively and a basic knowledge about digital currency.\n",
    "### Expectation\n",
    "In this project, we will find out the crypto currency market and its history, with expectation that we can find a method to buy a coin and take profit. "
   ]
  },
  {
   "attachments": {},
   "cell_type": "markdown",
   "metadata": {},
   "source": [
    "## II. Datasets and Collection"
   ]
  },
  {
   "attachments": {},
   "cell_type": "markdown",
   "metadata": {},
   "source": [
    "### Source and Public Data\n",
    "I found the datasets used in this project was public on [Kaggle](https://www.kaggle.com/datasets/sudalairajkumar/cryptocurrencypricehistory): Crypto Currrency price history.\n",
    "\n",
    "### License\n",
    "The data is taken from [coinmarketcap](https://coinmarketcap.com/) and it is [free](https://coinmarketcap.com/faq/) to use the data.\n",
    "\n",
    "More about the license I found on kaggle: \n",
    "- CC0: Public Domain ([No copyright](https://creativecommons.org/publicdomain/zero/1.0/))\n",
    "\n",
    "### About Data\n",
    "The dataset has one csv file for each currency. **Price history is available on a daily basis from <font color = 'green'>*April 28, 2013*</font>**. This dataset has the historical price information of some of the top crypto currencies by market capitalization, including Bitcoin, Etherium, Binance Coin,...\n",
    "\n",
    "### Description \n",
    "All information of columns contain in the file named `description.txt`.\n",
    "\n",
    "### Author\n",
    "Datasets were collected by Sudalai Rajkumar(registered account name [SRK](https://www.kaggle.com/sudalairajkumar)) on Kaggle.\n",
    "\n",
    "### How did the author collect data?\n",
    "As the author's answer, there is not mentioned clearly how the way he collected data, maybe collected by scraping historical data web. For instance: [bitcoin](https://coinmarketcap.com/currencies/bitcoin/historical-data/).\n",
    "\n",
    "### Is dataset subjective or objective?\n",
    "Besides the historical price of digital currency, there are many factors in a coin we need to take consideration on. For example: Holders Statistic over time, legality, team and organization investors, who created the coin... \n",
    "\n",
    "So that the dataset is subjective."
   ]
  },
  {
   "attachments": {},
   "cell_type": "markdown",
   "metadata": {},
   "source": [
    "---"
   ]
  },
  {
   "attachments": {},
   "cell_type": "markdown",
   "metadata": {},
   "source": [
    "## III. Preprocessing Data"
   ]
  },
  {
   "attachments": {},
   "cell_type": "markdown",
   "metadata": {},
   "source": [
    "### 1. Change files."
   ]
  },
  {
   "attachments": {},
   "cell_type": "markdown",
   "metadata": {},
   "source": [
    "First, we cannot access each files to analyze, it must be combined into one.\n",
    "\n",
    "#### How many files does we have?"
   ]
  },
  {
   "cell_type": "code",
   "execution_count": 4,
   "metadata": {},
   "outputs": [
    {
     "name": "stdout",
     "output_type": "stream",
     "text": [
      "Containing number of files: 23.\n",
      "['coin_XRP.csv', 'coin_Ethereum.csv', 'coin_Aave.csv', 'coin_USDCoin.csv', 'coin_Solana.csv', 'coin_EOS.csv', 'coin_WrappedBitcoin.csv', 'coin_Cardano.csv', 'coin_NEM.csv', 'coin_Tron.csv', 'coin_CryptocomCoin.csv', 'coin_BinanceCoin.csv', 'coin_Iota.csv', 'coin_ChainLink.csv', 'coin_Monero.csv', 'coin_Dogecoin.csv', 'coin_Tether.csv', 'coin_Bitcoin.csv', 'coin_Cosmos.csv', 'coin_Litecoin.csv', 'coin_Stellar.csv', 'coin_Polkadot.csv', 'coin_Uniswap.csv']\n"
     ]
    }
   ],
   "source": [
    "path = 'archive/'\n",
    "os.chdir(path)\n",
    "ext = 'csv'\n",
    "all_files = [f for f in glob.glob(f'*.{ext}')]\n",
    "\n",
    "print(f'Containing number of files: {len(all_files)}.')\n",
    "print(all_files)\n",
    "\n",
    "os.chdir('../')"
   ]
  },
  {
   "attachments": {},
   "cell_type": "markdown",
   "metadata": {},
   "source": [
    "#### Are there duplicated in each files? \n",
    "\n",
    "Lets check duplicated rows."
   ]
  },
  {
   "cell_type": "code",
   "execution_count": 5,
   "metadata": {},
   "outputs": [
    {
     "name": "stdout",
     "output_type": "stream",
     "text": [
      "duplicated in coin_XRP.csv: 0\n",
      "duplicated in coin_Ethereum.csv: 0\n",
      "duplicated in coin_Aave.csv: 0\n",
      "duplicated in coin_USDCoin.csv: 0\n",
      "duplicated in coin_Solana.csv: 0\n",
      "duplicated in coin_EOS.csv: 0\n",
      "duplicated in coin_WrappedBitcoin.csv: 0\n",
      "duplicated in coin_Cardano.csv: 0\n",
      "duplicated in coin_NEM.csv: 0\n",
      "duplicated in coin_Tron.csv: 0\n",
      "duplicated in coin_CryptocomCoin.csv: 0\n",
      "duplicated in coin_BinanceCoin.csv: 0\n",
      "duplicated in coin_Iota.csv: 0\n",
      "duplicated in coin_ChainLink.csv: 0\n",
      "duplicated in coin_Monero.csv: 0\n",
      "duplicated in coin_Dogecoin.csv: 0\n",
      "duplicated in coin_Tether.csv: 0\n",
      "duplicated in coin_Bitcoin.csv: 0\n",
      "duplicated in coin_Cosmos.csv: 0\n",
      "duplicated in coin_Litecoin.csv: 0\n",
      "duplicated in coin_Stellar.csv: 0\n",
      "duplicated in coin_Polkadot.csv: 0\n",
      "duplicated in coin_Uniswap.csv: 0\n"
     ]
    }
   ],
   "source": [
    "for f in all_files:\n",
    "    temp = pd.read_csv(path+f)\n",
    "    print(f'duplicated in {f}:', temp.index.duplicated().sum())"
   ]
  },
  {
   "attachments": {},
   "cell_type": "markdown",
   "metadata": {},
   "source": [
    "So there is no duplicated rows. We carry out combining files."
   ]
  },
  {
   "cell_type": "code",
   "execution_count": 6,
   "metadata": {},
   "outputs": [
    {
     "name": "stdout",
     "output_type": "stream",
     "text": [
      "duplicated in combine files:  34091\n"
     ]
    }
   ],
   "source": [
    "combined_csv = pd.concat([pd.read_csv(path + fname) for fname in all_files])\n",
    "print('duplicated in combine files: ', combined_csv.index.duplicated().sum())"
   ]
  },
  {
   "attachments": {},
   "cell_type": "markdown",
   "metadata": {},
   "source": [
    "Why the combined files take duplicated? Because column 'SNo' is the index starting with $1$ for each files. So we must reset the index in combined files. "
   ]
  },
  {
   "cell_type": "code",
   "execution_count": 7,
   "metadata": {},
   "outputs": [],
   "source": [
    "combined_csv.drop('SNo',1,inplace = True)\n",
    "combined_csv.to_csv('crypto_finance.csv', index=False)\n",
    "\n",
    "combined_csv = pd.read_csv('crypto_finance.csv')\n",
    "combined_csv.index.rename('SNo', inplace = True)\n",
    "combined_csv.to_csv('crypto_finance.csv')"
   ]
  },
  {
   "attachments": {},
   "cell_type": "markdown",
   "metadata": {},
   "source": [
    "### 2. Pre-processing"
   ]
  },
  {
   "attachments": {},
   "cell_type": "markdown",
   "metadata": {},
   "source": [
    "Read new file. Let's see some values."
   ]
  },
  {
   "cell_type": "code",
   "execution_count": 8,
   "metadata": {},
   "outputs": [
    {
     "data": {
      "text/html": [
       "<div>\n",
       "<style scoped>\n",
       "    .dataframe tbody tr th:only-of-type {\n",
       "        vertical-align: middle;\n",
       "    }\n",
       "\n",
       "    .dataframe tbody tr th {\n",
       "        vertical-align: top;\n",
       "    }\n",
       "\n",
       "    .dataframe thead th {\n",
       "        text-align: right;\n",
       "    }\n",
       "</style>\n",
       "<table border=\"1\" class=\"dataframe\">\n",
       "  <thead>\n",
       "    <tr style=\"text-align: right;\">\n",
       "      <th></th>\n",
       "      <th>Name</th>\n",
       "      <th>Symbol</th>\n",
       "      <th>Date</th>\n",
       "      <th>High</th>\n",
       "      <th>Low</th>\n",
       "      <th>Open</th>\n",
       "      <th>Close</th>\n",
       "      <th>Volume</th>\n",
       "      <th>Marketcap</th>\n",
       "    </tr>\n",
       "    <tr>\n",
       "      <th>SNo</th>\n",
       "      <th></th>\n",
       "      <th></th>\n",
       "      <th></th>\n",
       "      <th></th>\n",
       "      <th></th>\n",
       "      <th></th>\n",
       "      <th></th>\n",
       "      <th></th>\n",
       "      <th></th>\n",
       "    </tr>\n",
       "  </thead>\n",
       "  <tbody>\n",
       "    <tr>\n",
       "      <th>1001</th>\n",
       "      <td>XRP</td>\n",
       "      <td>XRP</td>\n",
       "      <td>2016-05-02 23:59:59</td>\n",
       "      <td>0.006803</td>\n",
       "      <td>0.006712</td>\n",
       "      <td>0.006791</td>\n",
       "      <td>0.006714</td>\n",
       "      <td>5.858260e+05</td>\n",
       "      <td>2.341121e+08</td>\n",
       "    </tr>\n",
       "    <tr>\n",
       "      <th>3666</th>\n",
       "      <td>Ethereum</td>\n",
       "      <td>ETH</td>\n",
       "      <td>2017-09-19 23:59:59</td>\n",
       "      <td>295.768005</td>\n",
       "      <td>274.484009</td>\n",
       "      <td>293.656006</td>\n",
       "      <td>282.803986</td>\n",
       "      <td>6.469090e+08</td>\n",
       "      <td>2.678709e+10</td>\n",
       "    </tr>\n",
       "    <tr>\n",
       "      <th>34469</th>\n",
       "      <td>Stellar</td>\n",
       "      <td>XLM</td>\n",
       "      <td>2016-01-14 23:59:59</td>\n",
       "      <td>0.001914</td>\n",
       "      <td>0.001762</td>\n",
       "      <td>0.001824</td>\n",
       "      <td>0.001914</td>\n",
       "      <td>6.412650e+04</td>\n",
       "      <td>9.258701e+06</td>\n",
       "    </tr>\n",
       "    <tr>\n",
       "      <th>6468</th>\n",
       "      <td>Solana</td>\n",
       "      <td>SOL</td>\n",
       "      <td>2020-08-27 23:59:59</td>\n",
       "      <td>3.854706</td>\n",
       "      <td>3.292214</td>\n",
       "      <td>3.557844</td>\n",
       "      <td>3.445060</td>\n",
       "      <td>2.103136e+07</td>\n",
       "      <td>1.110603e+08</td>\n",
       "    </tr>\n",
       "    <tr>\n",
       "      <th>35296</th>\n",
       "      <td>Stellar</td>\n",
       "      <td>XLM</td>\n",
       "      <td>2018-04-20 23:59:59</td>\n",
       "      <td>0.398048</td>\n",
       "      <td>0.356500</td>\n",
       "      <td>0.366551</td>\n",
       "      <td>0.391165</td>\n",
       "      <td>1.702820e+08</td>\n",
       "      <td>7.263791e+09</td>\n",
       "    </tr>\n",
       "    <tr>\n",
       "      <th>10254</th>\n",
       "      <td>Cardano</td>\n",
       "      <td>ADA</td>\n",
       "      <td>2020-10-24 23:59:59</td>\n",
       "      <td>0.109662</td>\n",
       "      <td>0.107539</td>\n",
       "      <td>0.108083</td>\n",
       "      <td>0.108075</td>\n",
       "      <td>8.681945e+08</td>\n",
       "      <td>3.362486e+09</td>\n",
       "    </tr>\n",
       "    <tr>\n",
       "      <th>14892</th>\n",
       "      <td>Crypto.com Coin</td>\n",
       "      <td>CRO</td>\n",
       "      <td>2020-11-16 23:59:59</td>\n",
       "      <td>0.066765</td>\n",
       "      <td>0.063283</td>\n",
       "      <td>0.063953</td>\n",
       "      <td>0.064691</td>\n",
       "      <td>4.315723e+07</td>\n",
       "      <td>1.404831e+09</td>\n",
       "    </tr>\n",
       "    <tr>\n",
       "      <th>11504</th>\n",
       "      <td>NEM</td>\n",
       "      <td>XEM</td>\n",
       "      <td>2017-12-21 23:59:59</td>\n",
       "      <td>1.051120</td>\n",
       "      <td>0.913511</td>\n",
       "      <td>0.949966</td>\n",
       "      <td>0.998102</td>\n",
       "      <td>1.128350e+08</td>\n",
       "      <td>8.982918e+09</td>\n",
       "    </tr>\n",
       "    <tr>\n",
       "      <th>16943</th>\n",
       "      <td>IOTA</td>\n",
       "      <td>MIOTA</td>\n",
       "      <td>2018-06-25 23:59:59</td>\n",
       "      <td>1.046840</td>\n",
       "      <td>0.960835</td>\n",
       "      <td>0.978272</td>\n",
       "      <td>1.018500</td>\n",
       "      <td>5.641030e+07</td>\n",
       "      <td>2.830952e+09</td>\n",
       "    </tr>\n",
       "    <tr>\n",
       "      <th>33205</th>\n",
       "      <td>Litecoin</td>\n",
       "      <td>LTC</td>\n",
       "      <td>2019-06-30 23:59:59</td>\n",
       "      <td>136.259679</td>\n",
       "      <td>120.440985</td>\n",
       "      <td>133.724642</td>\n",
       "      <td>122.249118</td>\n",
       "      <td>5.525273e+09</td>\n",
       "      <td>7.636047e+09</td>\n",
       "    </tr>\n",
       "  </tbody>\n",
       "</table>\n",
       "</div>"
      ],
      "text/plain": [
       "                  Name Symbol                 Date        High         Low  \\\n",
       "SNo                                                                          \n",
       "1001               XRP    XRP  2016-05-02 23:59:59    0.006803    0.006712   \n",
       "3666          Ethereum    ETH  2017-09-19 23:59:59  295.768005  274.484009   \n",
       "34469          Stellar    XLM  2016-01-14 23:59:59    0.001914    0.001762   \n",
       "6468            Solana    SOL  2020-08-27 23:59:59    3.854706    3.292214   \n",
       "35296          Stellar    XLM  2018-04-20 23:59:59    0.398048    0.356500   \n",
       "10254          Cardano    ADA  2020-10-24 23:59:59    0.109662    0.107539   \n",
       "14892  Crypto.com Coin    CRO  2020-11-16 23:59:59    0.066765    0.063283   \n",
       "11504              NEM    XEM  2017-12-21 23:59:59    1.051120    0.913511   \n",
       "16943             IOTA  MIOTA  2018-06-25 23:59:59    1.046840    0.960835   \n",
       "33205         Litecoin    LTC  2019-06-30 23:59:59  136.259679  120.440985   \n",
       "\n",
       "             Open       Close        Volume     Marketcap  \n",
       "SNo                                                        \n",
       "1001     0.006791    0.006714  5.858260e+05  2.341121e+08  \n",
       "3666   293.656006  282.803986  6.469090e+08  2.678709e+10  \n",
       "34469    0.001824    0.001914  6.412650e+04  9.258701e+06  \n",
       "6468     3.557844    3.445060  2.103136e+07  1.110603e+08  \n",
       "35296    0.366551    0.391165  1.702820e+08  7.263791e+09  \n",
       "10254    0.108083    0.108075  8.681945e+08  3.362486e+09  \n",
       "14892    0.063953    0.064691  4.315723e+07  1.404831e+09  \n",
       "11504    0.949966    0.998102  1.128350e+08  8.982918e+09  \n",
       "16943    0.978272    1.018500  5.641030e+07  2.830952e+09  \n",
       "33205  133.724642  122.249118  5.525273e+09  7.636047e+09  "
      ]
     },
     "execution_count": 8,
     "metadata": {},
     "output_type": "execute_result"
    }
   ],
   "source": [
    "cryp_df = pd.read_csv('crypto_finance.csv', index_col='SNo')\n",
    "\n",
    "cryp_df.sample(10)"
   ]
  },
  {
   "attachments": {},
   "cell_type": "markdown",
   "metadata": {},
   "source": [
    "More information about dataset."
   ]
  },
  {
   "cell_type": "code",
   "execution_count": 9,
   "metadata": {},
   "outputs": [
    {
     "name": "stdout",
     "output_type": "stream",
     "text": [
      "<class 'pandas.core.frame.DataFrame'>\n",
      "Int64Index: 37082 entries, 0 to 37081\n",
      "Data columns (total 9 columns):\n",
      " #   Column     Non-Null Count  Dtype  \n",
      "---  ------     --------------  -----  \n",
      " 0   Name       37082 non-null  object \n",
      " 1   Symbol     37082 non-null  object \n",
      " 2   Date       37082 non-null  object \n",
      " 3   High       37082 non-null  float64\n",
      " 4   Low        37082 non-null  float64\n",
      " 5   Open       37082 non-null  float64\n",
      " 6   Close      37082 non-null  float64\n",
      " 7   Volume     37082 non-null  float64\n",
      " 8   Marketcap  37082 non-null  float64\n",
      "dtypes: float64(6), object(3)\n",
      "memory usage: 2.8+ MB\n"
     ]
    }
   ],
   "source": [
    "cryp_df.info()"
   ]
  },
  {
   "attachments": {},
   "cell_type": "markdown",
   "metadata": {},
   "source": [
    "#### How many rows and columns in the file?"
   ]
  },
  {
   "cell_type": "code",
   "execution_count": 10,
   "metadata": {},
   "outputs": [
    {
     "data": {
      "text/plain": [
       "(37082, 9)"
      ]
     },
     "execution_count": 10,
     "metadata": {},
     "output_type": "execute_result"
    }
   ],
   "source": [
    "cryp_df.shape"
   ]
  },
  {
   "attachments": {},
   "cell_type": "markdown",
   "metadata": {},
   "source": [
    "There are 37082 rows and 9 columns."
   ]
  },
  {
   "attachments": {},
   "cell_type": "markdown",
   "metadata": {},
   "source": [
    "#### What is the meaning of each row (sample)?"
   ]
  },
  {
   "attachments": {},
   "cell_type": "markdown",
   "metadata": {},
   "source": [
    "The dataset shows that each samples contain the information of a specific coin at each time."
   ]
  },
  {
   "attachments": {},
   "cell_type": "markdown",
   "metadata": {},
   "source": [
    "#### Does the data have duplicated samples?"
   ]
  },
  {
   "cell_type": "code",
   "execution_count": 11,
   "metadata": {},
   "outputs": [
    {
     "data": {
      "text/plain": [
       "0"
      ]
     },
     "execution_count": 11,
     "metadata": {},
     "output_type": "execute_result"
    }
   ],
   "source": [
    "cryp_df.index.duplicated().sum()"
   ]
  },
  {
   "attachments": {},
   "cell_type": "markdown",
   "metadata": {},
   "source": [
    "There is no duplicated samples."
   ]
  },
  {
   "attachments": {},
   "cell_type": "markdown",
   "metadata": {},
   "source": [
    "#### What does each column mean? "
   ]
  },
  {
   "cell_type": "code",
   "execution_count": 12,
   "metadata": {},
   "outputs": [
    {
     "name": "stdout",
     "output_type": "stream",
     "text": [
      "1) SNo:         Serial Number.\n",
      "2) Name:        Name of coin.\n",
      "3) Symbol:      Symbol of coin.\n",
      "4) Date:        Date of observation.\n",
      "5) Open:        Opening price on the given day.\n",
      "6) High:        Highest price on the given day.\n",
      "7) Low:         Lowest price on the given day.\n",
      "8) Close:       Closing price on the given day.\n",
      "9) Volume:      Volume of transactions on the given day (in USD).\n",
      "10) Market Cap: Market capitalization in USD.\n"
     ]
    }
   ],
   "source": [
    "f = open('description.txt', 'r')\n",
    "print(f.read())\n",
    "f.close()"
   ]
  },
  {
   "attachments": {},
   "cell_type": "markdown",
   "metadata": {},
   "source": [
    "#### Check the data types? "
   ]
  },
  {
   "cell_type": "code",
   "execution_count": 13,
   "metadata": {},
   "outputs": [
    {
     "data": {
      "text/plain": [
       "Name          object\n",
       "Symbol        object\n",
       "Date          object\n",
       "High         float64\n",
       "Low          float64\n",
       "Open         float64\n",
       "Close        float64\n",
       "Volume       float64\n",
       "Marketcap    float64\n",
       "dtype: object"
      ]
     },
     "execution_count": 13,
     "metadata": {},
     "output_type": "execute_result"
    }
   ],
   "source": [
    "cryp_df.dtypes"
   ]
  },
  {
   "attachments": {},
   "cell_type": "markdown",
   "metadata": {},
   "source": [
    "Overall, all the column types is correct except `Date`. We need to change `Date` column to appropriate type (`datetime`)."
   ]
  },
  {
   "cell_type": "code",
   "execution_count": 14,
   "metadata": {},
   "outputs": [],
   "source": [
    "cryp_df['Date'] = pd.to_datetime(cryp_df['Date'], format=\"%Y-%m-%d %X\")"
   ]
  },
  {
   "attachments": {},
   "cell_type": "markdown",
   "metadata": {},
   "source": [
    "#### With the numeric columns, how are values distributed? Is there any abnormal value?"
   ]
  },
  {
   "cell_type": "code",
   "execution_count": 15,
   "metadata": {},
   "outputs": [
    {
     "data": {
      "text/html": [
       "<div>\n",
       "<style scoped>\n",
       "    .dataframe tbody tr th:only-of-type {\n",
       "        vertical-align: middle;\n",
       "    }\n",
       "\n",
       "    .dataframe tbody tr th {\n",
       "        vertical-align: top;\n",
       "    }\n",
       "\n",
       "    .dataframe thead th {\n",
       "        text-align: right;\n",
       "    }\n",
       "</style>\n",
       "<table border=\"1\" class=\"dataframe\">\n",
       "  <thead>\n",
       "    <tr style=\"text-align: right;\">\n",
       "      <th></th>\n",
       "      <th>Date</th>\n",
       "      <th>High</th>\n",
       "      <th>Low</th>\n",
       "      <th>Open</th>\n",
       "      <th>Close</th>\n",
       "      <th>Volume</th>\n",
       "      <th>Marketcap</th>\n",
       "    </tr>\n",
       "  </thead>\n",
       "  <tbody>\n",
       "    <tr>\n",
       "      <th>count</th>\n",
       "      <td>37082</td>\n",
       "      <td>37082.000000</td>\n",
       "      <td>37082.000000</td>\n",
       "      <td>37082.000000</td>\n",
       "      <td>37082.000000</td>\n",
       "      <td>3.708200e+04</td>\n",
       "      <td>3.708200e+04</td>\n",
       "    </tr>\n",
       "    <tr>\n",
       "      <th>mean</th>\n",
       "      <td>2018-08-16 07:12:30.221616896</td>\n",
       "      <td>1016.058015</td>\n",
       "      <td>952.987707</td>\n",
       "      <td>985.323755</td>\n",
       "      <td>987.120511</td>\n",
       "      <td>3.022542e+09</td>\n",
       "      <td>1.542943e+10</td>\n",
       "    </tr>\n",
       "    <tr>\n",
       "      <th>min</th>\n",
       "      <td>2013-04-29 23:59:59</td>\n",
       "      <td>0.000089</td>\n",
       "      <td>0.000079</td>\n",
       "      <td>0.000086</td>\n",
       "      <td>0.000086</td>\n",
       "      <td>0.000000e+00</td>\n",
       "      <td>0.000000e+00</td>\n",
       "    </tr>\n",
       "    <tr>\n",
       "      <th>25%</th>\n",
       "      <td>2017-03-05 23:59:59</td>\n",
       "      <td>0.075664</td>\n",
       "      <td>0.069536</td>\n",
       "      <td>0.072456</td>\n",
       "      <td>0.072648</td>\n",
       "      <td>4.937190e+06</td>\n",
       "      <td>2.395955e+08</td>\n",
       "    </tr>\n",
       "    <tr>\n",
       "      <th>50%</th>\n",
       "      <td>2019-01-09 23:59:59</td>\n",
       "      <td>1.008733</td>\n",
       "      <td>0.999850</td>\n",
       "      <td>1.001157</td>\n",
       "      <td>1.001138</td>\n",
       "      <td>8.512805e+07</td>\n",
       "      <td>1.405335e+09</td>\n",
       "    </tr>\n",
       "    <tr>\n",
       "      <th>75%</th>\n",
       "      <td>2020-05-13 23:59:59</td>\n",
       "      <td>31.916399</td>\n",
       "      <td>28.996246</td>\n",
       "      <td>30.459673</td>\n",
       "      <td>30.512205</td>\n",
       "      <td>9.388489e+08</td>\n",
       "      <td>5.159305e+09</td>\n",
       "    </tr>\n",
       "    <tr>\n",
       "      <th>max</th>\n",
       "      <td>2021-07-06 23:59:59</td>\n",
       "      <td>64863.098908</td>\n",
       "      <td>62208.964366</td>\n",
       "      <td>63523.754869</td>\n",
       "      <td>63503.457930</td>\n",
       "      <td>3.509679e+11</td>\n",
       "      <td>1.186364e+12</td>\n",
       "    </tr>\n",
       "    <tr>\n",
       "      <th>std</th>\n",
       "      <td>NaN</td>\n",
       "      <td>5249.503670</td>\n",
       "      <td>4907.932082</td>\n",
       "      <td>5088.101367</td>\n",
       "      <td>5093.703878</td>\n",
       "      <td>1.190963e+10</td>\n",
       "      <td>7.059128e+10</td>\n",
       "    </tr>\n",
       "    <tr>\n",
       "      <th>missing_ratio</th>\n",
       "      <td>0.0</td>\n",
       "      <td>0.000000</td>\n",
       "      <td>0.000000</td>\n",
       "      <td>0.000000</td>\n",
       "      <td>0.000000</td>\n",
       "      <td>0.000000e+00</td>\n",
       "      <td>0.000000e+00</td>\n",
       "    </tr>\n",
       "  </tbody>\n",
       "</table>\n",
       "</div>"
      ],
      "text/plain": [
       "                                        Date          High           Low  \\\n",
       "count                                  37082  37082.000000  37082.000000   \n",
       "mean           2018-08-16 07:12:30.221616896   1016.058015    952.987707   \n",
       "min                      2013-04-29 23:59:59      0.000089      0.000079   \n",
       "25%                      2017-03-05 23:59:59      0.075664      0.069536   \n",
       "50%                      2019-01-09 23:59:59      1.008733      0.999850   \n",
       "75%                      2020-05-13 23:59:59     31.916399     28.996246   \n",
       "max                      2021-07-06 23:59:59  64863.098908  62208.964366   \n",
       "std                                      NaN   5249.503670   4907.932082   \n",
       "missing_ratio                            0.0      0.000000      0.000000   \n",
       "\n",
       "                       Open         Close        Volume     Marketcap  \n",
       "count          37082.000000  37082.000000  3.708200e+04  3.708200e+04  \n",
       "mean             985.323755    987.120511  3.022542e+09  1.542943e+10  \n",
       "min                0.000086      0.000086  0.000000e+00  0.000000e+00  \n",
       "25%                0.072456      0.072648  4.937190e+06  2.395955e+08  \n",
       "50%                1.001157      1.001138  8.512805e+07  1.405335e+09  \n",
       "75%               30.459673     30.512205  9.388489e+08  5.159305e+09  \n",
       "max            63523.754869  63503.457930  3.509679e+11  1.186364e+12  \n",
       "std             5088.101367   5093.703878  1.190963e+10  7.059128e+10  \n",
       "missing_ratio      0.000000      0.000000  0.000000e+00  0.000000e+00  "
      ]
     },
     "execution_count": 15,
     "metadata": {},
     "output_type": "execute_result"
    }
   ],
   "source": [
    "nume_cols_df = cryp_df.describe(include=['number', 'datetime'], datetime_is_numeric=True)\n",
    "nume_cols_df.loc['missing_ratio'] = cryp_df.agg(lambda x: x.isna().mean()*100)\n",
    "\n",
    "nume_cols_df"
   ]
  },
  {
   "attachments": {},
   "cell_type": "markdown",
   "metadata": {},
   "source": [
    "There is no missing value in DataFrame. But it exists abnormal values in `min` row of `Volumn` and `Marketcap` col.\n",
    "\n",
    "So, lets take a look at these columns."
   ]
  },
  {
   "cell_type": "code",
   "execution_count": 21,
   "metadata": {},
   "outputs": [
    {
     "data": {
      "text/html": [
       "<div>\n",
       "<style scoped>\n",
       "    .dataframe tbody tr th:only-of-type {\n",
       "        vertical-align: middle;\n",
       "    }\n",
       "\n",
       "    .dataframe tbody tr th {\n",
       "        vertical-align: top;\n",
       "    }\n",
       "\n",
       "    .dataframe thead th {\n",
       "        text-align: right;\n",
       "    }\n",
       "</style>\n",
       "<table border=\"1\" class=\"dataframe\">\n",
       "  <thead>\n",
       "    <tr style=\"text-align: right;\">\n",
       "      <th></th>\n",
       "      <th>Name</th>\n",
       "      <th>Symbol</th>\n",
       "      <th>Date</th>\n",
       "      <th>High</th>\n",
       "      <th>Low</th>\n",
       "      <th>Open</th>\n",
       "      <th>Close</th>\n",
       "      <th>Volume</th>\n",
       "      <th>Marketcap</th>\n",
       "    </tr>\n",
       "    <tr>\n",
       "      <th>SNo</th>\n",
       "      <th></th>\n",
       "      <th></th>\n",
       "      <th></th>\n",
       "      <th></th>\n",
       "      <th></th>\n",
       "      <th></th>\n",
       "      <th></th>\n",
       "      <th></th>\n",
       "      <th></th>\n",
       "    </tr>\n",
       "  </thead>\n",
       "  <tbody>\n",
       "    <tr>\n",
       "      <th>0</th>\n",
       "      <td>XRP</td>\n",
       "      <td>XRP</td>\n",
       "      <td>2013-08-05 23:59:59</td>\n",
       "      <td>0.005980</td>\n",
       "      <td>0.005613</td>\n",
       "      <td>0.005875</td>\n",
       "      <td>0.005613</td>\n",
       "      <td>0.000000e+00</td>\n",
       "      <td>4.387916e+07</td>\n",
       "    </tr>\n",
       "    <tr>\n",
       "      <th>1</th>\n",
       "      <td>XRP</td>\n",
       "      <td>XRP</td>\n",
       "      <td>2013-08-06 23:59:59</td>\n",
       "      <td>0.005661</td>\n",
       "      <td>0.004629</td>\n",
       "      <td>0.005637</td>\n",
       "      <td>0.004680</td>\n",
       "      <td>0.000000e+00</td>\n",
       "      <td>3.659101e+07</td>\n",
       "    </tr>\n",
       "    <tr>\n",
       "      <th>2</th>\n",
       "      <td>XRP</td>\n",
       "      <td>XRP</td>\n",
       "      <td>2013-08-07 23:59:59</td>\n",
       "      <td>0.004682</td>\n",
       "      <td>0.004333</td>\n",
       "      <td>0.004669</td>\n",
       "      <td>0.004417</td>\n",
       "      <td>0.000000e+00</td>\n",
       "      <td>3.453412e+07</td>\n",
       "    </tr>\n",
       "    <tr>\n",
       "      <th>3</th>\n",
       "      <td>XRP</td>\n",
       "      <td>XRP</td>\n",
       "      <td>2013-08-08 23:59:59</td>\n",
       "      <td>0.004424</td>\n",
       "      <td>0.004175</td>\n",
       "      <td>0.004397</td>\n",
       "      <td>0.004254</td>\n",
       "      <td>0.000000e+00</td>\n",
       "      <td>3.325863e+07</td>\n",
       "    </tr>\n",
       "    <tr>\n",
       "      <th>4</th>\n",
       "      <td>XRP</td>\n",
       "      <td>XRP</td>\n",
       "      <td>2013-08-09 23:59:59</td>\n",
       "      <td>0.004367</td>\n",
       "      <td>0.004253</td>\n",
       "      <td>0.004257</td>\n",
       "      <td>0.004291</td>\n",
       "      <td>0.000000e+00</td>\n",
       "      <td>3.354750e+07</td>\n",
       "    </tr>\n",
       "    <tr>\n",
       "      <th>...</th>\n",
       "      <td>...</td>\n",
       "      <td>...</td>\n",
       "      <td>...</td>\n",
       "      <td>...</td>\n",
       "      <td>...</td>\n",
       "      <td>...</td>\n",
       "      <td>...</td>\n",
       "      <td>...</td>\n",
       "      <td>...</td>\n",
       "    </tr>\n",
       "    <tr>\n",
       "      <th>36477</th>\n",
       "      <td>Polkadot</td>\n",
       "      <td>DOT</td>\n",
       "      <td>2020-08-28 23:59:59</td>\n",
       "      <td>6.333746</td>\n",
       "      <td>5.540963</td>\n",
       "      <td>5.639486</td>\n",
       "      <td>6.159955</td>\n",
       "      <td>7.271622e+08</td>\n",
       "      <td>0.000000e+00</td>\n",
       "    </tr>\n",
       "    <tr>\n",
       "      <th>36478</th>\n",
       "      <td>Polkadot</td>\n",
       "      <td>DOT</td>\n",
       "      <td>2020-08-29 23:59:59</td>\n",
       "      <td>6.562906</td>\n",
       "      <td>6.042309</td>\n",
       "      <td>6.175925</td>\n",
       "      <td>6.159143</td>\n",
       "      <td>5.272900e+08</td>\n",
       "      <td>0.000000e+00</td>\n",
       "    </tr>\n",
       "    <tr>\n",
       "      <th>36479</th>\n",
       "      <td>Polkadot</td>\n",
       "      <td>DOT</td>\n",
       "      <td>2020-08-30 23:59:59</td>\n",
       "      <td>6.219506</td>\n",
       "      <td>5.749978</td>\n",
       "      <td>6.153440</td>\n",
       "      <td>5.869881</td>\n",
       "      <td>4.853351e+08</td>\n",
       "      <td>0.000000e+00</td>\n",
       "    </tr>\n",
       "    <tr>\n",
       "      <th>36480</th>\n",
       "      <td>Polkadot</td>\n",
       "      <td>DOT</td>\n",
       "      <td>2020-08-31 23:59:59</td>\n",
       "      <td>6.459377</td>\n",
       "      <td>5.772966</td>\n",
       "      <td>5.905918</td>\n",
       "      <td>6.300020</td>\n",
       "      <td>5.126048e+08</td>\n",
       "      <td>0.000000e+00</td>\n",
       "    </tr>\n",
       "    <tr>\n",
       "      <th>36481</th>\n",
       "      <td>Polkadot</td>\n",
       "      <td>DOT</td>\n",
       "      <td>2020-09-01 23:59:59</td>\n",
       "      <td>6.838898</td>\n",
       "      <td>6.172324</td>\n",
       "      <td>6.298810</td>\n",
       "      <td>6.288767</td>\n",
       "      <td>6.015274e+08</td>\n",
       "      <td>0.000000e+00</td>\n",
       "    </tr>\n",
       "  </tbody>\n",
       "</table>\n",
       "<p>971 rows × 9 columns</p>\n",
       "</div>"
      ],
      "text/plain": [
       "           Name Symbol                Date      High       Low      Open  \\\n",
       "SNo                                                                        \n",
       "0           XRP    XRP 2013-08-05 23:59:59  0.005980  0.005613  0.005875   \n",
       "1           XRP    XRP 2013-08-06 23:59:59  0.005661  0.004629  0.005637   \n",
       "2           XRP    XRP 2013-08-07 23:59:59  0.004682  0.004333  0.004669   \n",
       "3           XRP    XRP 2013-08-08 23:59:59  0.004424  0.004175  0.004397   \n",
       "4           XRP    XRP 2013-08-09 23:59:59  0.004367  0.004253  0.004257   \n",
       "...         ...    ...                 ...       ...       ...       ...   \n",
       "36477  Polkadot    DOT 2020-08-28 23:59:59  6.333746  5.540963  5.639486   \n",
       "36478  Polkadot    DOT 2020-08-29 23:59:59  6.562906  6.042309  6.175925   \n",
       "36479  Polkadot    DOT 2020-08-30 23:59:59  6.219506  5.749978  6.153440   \n",
       "36480  Polkadot    DOT 2020-08-31 23:59:59  6.459377  5.772966  5.905918   \n",
       "36481  Polkadot    DOT 2020-09-01 23:59:59  6.838898  6.172324  6.298810   \n",
       "\n",
       "          Close        Volume     Marketcap  \n",
       "SNo                                          \n",
       "0      0.005613  0.000000e+00  4.387916e+07  \n",
       "1      0.004680  0.000000e+00  3.659101e+07  \n",
       "2      0.004417  0.000000e+00  3.453412e+07  \n",
       "3      0.004254  0.000000e+00  3.325863e+07  \n",
       "4      0.004291  0.000000e+00  3.354750e+07  \n",
       "...         ...           ...           ...  \n",
       "36477  6.159955  7.271622e+08  0.000000e+00  \n",
       "36478  6.159143  5.272900e+08  0.000000e+00  \n",
       "36479  5.869881  4.853351e+08  0.000000e+00  \n",
       "36480  6.300020  5.126048e+08  0.000000e+00  \n",
       "36481  6.288767  6.015274e+08  0.000000e+00  \n",
       "\n",
       "[971 rows x 9 columns]"
      ]
     },
     "execution_count": 21,
     "metadata": {},
     "output_type": "execute_result"
    }
   ],
   "source": [
    "check_df = cryp_df[(cryp_df['Marketcap'] == 0) | (cryp_df['Volume'] == 0)]\n",
    "check_df"
   ]
  },
  {
   "attachments": {},
   "cell_type": "markdown",
   "metadata": {},
   "source": [
    "We got some problems here: Abnormal values on `Volume` and `Marketcap` col. We can calculate the ratio of abnormal values to decide whether to drop or not."
   ]
  },
  {
   "cell_type": "code",
   "execution_count": 34,
   "metadata": {},
   "outputs": [
    {
     "data": {
      "text/plain": [
       "Symbol\n",
       "AAVE     0.363636\n",
       "ATOM     5.443787\n",
       "BTC      8.090939\n",
       "CRO      0.213904\n",
       "DOGE     0.398551\n",
       "DOT      3.750000\n",
       "EOS      0.068213\n",
       "LTC      8.090939\n",
       "SOL     11.504425\n",
       "TRX      1.005747\n",
       "USDC     0.798403\n",
       "WBTC    22.072072\n",
       "XRP      4.977532\n",
       "dtype: float64"
      ]
     },
     "execution_count": 34,
     "metadata": {},
     "output_type": "execute_result"
    }
   ],
   "source": [
    "abn_df = check_df.groupby(['Symbol']).size()\n",
    "\n",
    "all_df = cryp_df.groupby(['Symbol']).size()\n",
    "\n",
    "(abn_df/all_df *100).dropna()"
   ]
  },
  {
   "attachments": {},
   "cell_type": "markdown",
   "metadata": {},
   "source": [
    "As the results, the number of invalid values is quite small, we can delete samples containing invalid values. But once we dropped it, we will face the intermittence of time data. So I decided not to drop."
   ]
  },
  {
   "attachments": {},
   "cell_type": "markdown",
   "metadata": {},
   "source": [
    "#### With the categorical columns, how are the values distributed? Is there any abnormal value? "
   ]
  },
  {
   "cell_type": "code",
   "execution_count": 36,
   "metadata": {},
   "outputs": [
    {
     "data": {
      "text/html": [
       "<div>\n",
       "<style scoped>\n",
       "    .dataframe tbody tr th:only-of-type {\n",
       "        vertical-align: middle;\n",
       "    }\n",
       "\n",
       "    .dataframe tbody tr th {\n",
       "        vertical-align: top;\n",
       "    }\n",
       "\n",
       "    .dataframe thead th {\n",
       "        text-align: right;\n",
       "    }\n",
       "</style>\n",
       "<table border=\"1\" class=\"dataframe\">\n",
       "  <thead>\n",
       "    <tr style=\"text-align: right;\">\n",
       "      <th></th>\n",
       "      <th>Name</th>\n",
       "      <th>Symbol</th>\n",
       "    </tr>\n",
       "  </thead>\n",
       "  <tbody>\n",
       "    <tr>\n",
       "      <th>missing_ratio</th>\n",
       "      <td>0.0</td>\n",
       "      <td>0.0</td>\n",
       "    </tr>\n",
       "    <tr>\n",
       "      <th>num_dif_val</th>\n",
       "      <td>23</td>\n",
       "      <td>23</td>\n",
       "    </tr>\n",
       "    <tr>\n",
       "      <th>diff_vals</th>\n",
       "      <td>[XRP, Ethereum, Aave, USD Coin, Solana, EOS, Wrapped Bitcoin, Cardano, NEM, TRON, Crypto.com Coin, Binance Coin, IOTA, Chainlink, Monero, Dogecoin, Tether, Bitcoin, Cosmos, Litecoin, Stellar, Polkadot, Uniswap]</td>\n",
       "      <td>[XRP, ETH, AAVE, USDC, SOL, EOS, WBTC, ADA, XEM, TRX, CRO, BNB, MIOTA, LINK, XMR, DOGE, USDT, BTC, ATOM, LTC, XLM, DOT, UNI]</td>\n",
       "    </tr>\n",
       "  </tbody>\n",
       "</table>\n",
       "</div>"
      ],
      "text/plain": [
       "                                                                                                                                                                                                                             Name  \\\n",
       "missing_ratio                                                                                                                                                                                                                 0.0   \n",
       "num_dif_val                                                                                                                                                                                                                    23   \n",
       "diff_vals      [XRP, Ethereum, Aave, USD Coin, Solana, EOS, Wrapped Bitcoin, Cardano, NEM, TRON, Crypto.com Coin, Binance Coin, IOTA, Chainlink, Monero, Dogecoin, Tether, Bitcoin, Cosmos, Litecoin, Stellar, Polkadot, Uniswap]   \n",
       "\n",
       "                                                                                                                                     Symbol  \n",
       "missing_ratio                                                                                                                           0.0  \n",
       "num_dif_val                                                                                                                              23  \n",
       "diff_vals      [XRP, ETH, AAVE, USDC, SOL, EOS, WBTC, ADA, XEM, TRX, CRO, BNB, MIOTA, LINK, XMR, DOGE, USDT, BTC, ATOM, LTC, XLM, DOT, UNI]  "
      ]
     },
     "execution_count": 36,
     "metadata": {},
     "output_type": "execute_result"
    }
   ],
   "source": [
    "cate_cols = cryp_df.describe(include=[object]).columns\n",
    "\n",
    "cate_cols_df = cryp_df[cate_cols].agg([\n",
    "    lambda x: x.isna().mean() *100, \n",
    "    pd.Series.nunique, \n",
    "    pd.Series.unique])\n",
    "\n",
    "cate_cols_df.rename(index ={\n",
    "    '<lambda>': 'missing_ratio',\n",
    "    'nunique':'num_dif_val',\n",
    "    'unique':'diff_vals'\n",
    "})"
   ]
  },
  {
   "attachments": {},
   "cell_type": "markdown",
   "metadata": {},
   "source": [
    "There is no missing value in categorical columns. Everything seems to be fine."
   ]
  },
  {
   "attachments": {},
   "cell_type": "markdown",
   "metadata": {},
   "source": [
    "## IV. Data Exploratory and Analysis. "
   ]
  },
  {
   "attachments": {},
   "cell_type": "markdown",
   "metadata": {},
   "source": [
    "### Propose meaningful question & answer."
   ]
  },
  {
   "attachments": {},
   "cell_type": "markdown",
   "metadata": {},
   "source": [
    "After preprocessing, we had an overview about the dataset. Lets turn back to our purpose. There are 2 main questions we must answer:\n",
    "- How does the price fluctuations of currencies correlate with each other?\n",
    "- Which coins do we need to take consideration?\n"
   ]
  },
  {
   "attachments": {},
   "cell_type": "markdown",
   "metadata": {},
   "source": [
    "### 1. How does the price fluctuations of currencies correlate with each other?"
   ]
  },
  {
   "attachments": {},
   "cell_type": "markdown",
   "metadata": {},
   "source": [
    "With this question, we could know how the digital currency work. The answer of this question tells us we should invest alternative coins or bitcoin."
   ]
  },
  {
   "cell_type": "markdown",
   "metadata": {},
   "source": []
  }
 ],
 "metadata": {
  "kernelspec": {
   "display_name": "min_ds-env",
   "language": "python",
   "name": "python3"
  },
  "language_info": {
   "codemirror_mode": {
    "name": "ipython",
    "version": 3
   },
   "file_extension": ".py",
   "mimetype": "text/x-python",
   "name": "python",
   "nbconvert_exporter": "python",
   "pygments_lexer": "ipython3",
   "version": "3.8.8 | packaged by conda-forge | (default, Feb 20 2021, 16:22:27) \n[GCC 9.3.0]"
  },
  "orig_nbformat": 4,
  "vscode": {
   "interpreter": {
    "hash": "ff3402e4e066c4e5fd432d9f3680b521be4c7a152a0556b6e79253ae35faf20f"
   }
  }
 },
 "nbformat": 4,
 "nbformat_minor": 2
}
